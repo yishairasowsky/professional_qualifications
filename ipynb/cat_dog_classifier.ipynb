{
  "nbformat": 4,
  "nbformat_minor": 0,
  "metadata": {
    "colab": {
      "name": "cat_dog_classifier.ipynb",
      "provenance": [],
      "collapsed_sections": [],
      "mount_file_id": "1AIvgI1ezkHtupREBwtryzD0hsqxdbbUY",
      "authorship_tag": "ABX9TyMJXvrvnrngZfGiTSEho0oC",
      "include_colab_link": true
    },
    "kernelspec": {
      "name": "python3",
      "display_name": "Python 3"
    }
  },
  "cells": [
    {
      "cell_type": "markdown",
      "metadata": {
        "id": "view-in-github",
        "colab_type": "text"
      },
      "source": [
        "<a href=\"https://colab.research.google.com/github/yishairasowsky/professional_qualifications/blob/master/cat_dog_classifier.ipynb\" target=\"_parent\"><img src=\"https://colab.research.google.com/assets/colab-badge.svg\" alt=\"Open In Colab\"/></a>"
      ]
    },
    {
      "cell_type": "code",
      "metadata": {
        "id": "4kRdJwjVqSXe"
      },
      "source": [
        "import os\n",
        "import h5py\n",
        "import shutil\n",
        "import scipy\n",
        "import random\n",
        "import zipfile\n",
        "import numpy as np\n",
        "import matplotlib.pyplot as plt\n",
        "import matplotlib.image as mpimg\n",
        "\n",
        "from PIL import Image\n",
        "from scipy import ndimage\n",
        "from skimage.transform import resize\n",
        "\n",
        "%matplotlib inline"
      ],
      "execution_count": null,
      "outputs": []
    },
    {
      "cell_type": "code",
      "metadata": {
        "id": "-bVxQM0gRxeK"
      },
      "source": [
        "folder_path = '/content/drive/MyDrive/Colab Datasets/cats_and_dogs_filtered'\n",
        "# shutil.rmtree(folder_path)\n",
        "file_path = '/content/drive/MyDrive/Colab Datasets/cats_and_dogs_filtered.zip'\n",
        "# os.remove(file_path)"
      ],
      "execution_count": null,
      "outputs": []
    },
    {
      "cell_type": "code",
      "metadata": {
        "id": "pUAJfSZGqS9y"
      },
      "source": [
        "!wget --no-check-certificate \\\n",
        "    https://storage.googleapis.com/mledu-datasets/cats_and_dogs_filtered.zip \\\n",
        "    -O \"/content/drive/MyDrive/Colab Datasets/cats_and_dogs_filtered.zip\""
      ],
      "execution_count": null,
      "outputs": []
    },
    {
      "cell_type": "code",
      "metadata": {
        "id": "O_Cj6pKVtqpr"
      },
      "source": [
        "local_zip = '/content/drive/MyDrive/Colab Datasets/cats_and_dogs_filtered.zip'\n",
        "# zip_ref = zipfile.ZipFile(local_zip, 'r')\n",
        "# zip_ref.extractall('/content/drive/MyDrive/Colab Datasets')\n",
        "# zip_ref.close()"
      ],
      "execution_count": null,
      "outputs": []
    },
    {
      "cell_type": "code",
      "metadata": {
        "id": "wQUO3sNurca0"
      },
      "source": [
        "base_dir = '/content/drive/MyDrive/Colab Datasets/cats_and_dogs_filtered'\n",
        "train_dir = os.path.join(base_dir, 'train')\n",
        "validation_dir = os.path.join(base_dir, 'validation')"
      ],
      "execution_count": null,
      "outputs": []
    },
    {
      "cell_type": "code",
      "metadata": {
        "id": "ChoKzvBQb750"
      },
      "source": [
        "dirs = {}\n",
        "for animal_type in ['cats','dogs']:\n",
        "  dirs[f'train_{animal_type}'] = os.path.join(train_dir, animal_type)\n",
        "  dirs[f'validation_{animal_type}'] = os.path.join(validation_dir, animal_type)"
      ],
      "execution_count": null,
      "outputs": []
    },
    {
      "cell_type": "code",
      "metadata": {
        "id": "t4Vk3j_pdSYM"
      },
      "source": [
        "names = {}\n",
        "for animal_type in ['cats','dogs']:\n",
        "  names[f'train_{animal_type}'] = os.listdir(dirs[f'train_{animal_type}'])\n",
        "  names[f'validation_{animal_type}'] = os.listdir(dirs[f'validation_{animal_type}'])"
      ],
      "execution_count": null,
      "outputs": []
    },
    {
      "cell_type": "code",
      "metadata": {
        "id": "nUpgypfjeGrC"
      },
      "source": [
        "paths = {}\n",
        "for animal_type in ['cats','dogs']:\n",
        "  paths[f'train_{animal_type}'] = [os.path.join(dirs[f'train_{animal_type}'], fname) for fname in names[f'train_{animal_type}']]\n",
        "  paths[f'test_{animal_type}'] = [os.path.join(dirs[f'validation_{animal_type}'], fname) for fname in names[f'validation_{animal_type}']]"
      ],
      "execution_count": null,
      "outputs": []
    },
    {
      "cell_type": "code",
      "metadata": {
        "id": "9PHvFc_tnJmA"
      },
      "source": [
        "train_paths = paths['train_dogs'] + paths['train_cats']\n",
        "test_paths = paths['test_dogs'] + paths['test_cats']"
      ],
      "execution_count": null,
      "outputs": []
    },
    {
      "cell_type": "code",
      "metadata": {
        "id": "On9DIY2WytDB"
      },
      "source": [
        "random.Random(4).shuffle(train_paths)\n",
        "random.Random(4).shuffle(test_paths)"
      ],
      "execution_count": null,
      "outputs": []
    },
    {
      "cell_type": "code",
      "metadata": {
        "id": "FE2KrwxKon9v"
      },
      "source": [
        "train_size = 20\n",
        "test_size = 10"
      ],
      "execution_count": null,
      "outputs": []
    },
    {
      "cell_type": "code",
      "metadata": {
        "id": "A6x7SDYupJyD"
      },
      "source": [
        "cat_str = 'cats/cat.'\n",
        "train_y = np.array([float(cat_str in path) for path in train_paths[:train_size]]).reshape(1,train_size)\n",
        "test_y = np.array([float(cat_str in path) for path in test_paths[:test_size]]).reshape(1,test_size)"
      ],
      "execution_count": null,
      "outputs": []
    },
    {
      "cell_type": "code",
      "metadata": {
        "colab": {
          "base_uri": "https://localhost:8080/"
        },
        "id": "fKacsUw_pkUX",
        "outputId": "33cea9bc-00b4-47b5-b89c-9caff579a550"
      },
      "source": [
        "print(train_y.shape)\n",
        "print(test_y.shape)"
      ],
      "execution_count": null,
      "outputs": [
        {
          "output_type": "stream",
          "text": [
            "(1, 20)\n",
            "(1, 10)\n"
          ],
          "name": "stdout"
        }
      ]
    },
    {
      "cell_type": "code",
      "metadata": {
        "colab": {
          "base_uri": "https://localhost:8080/"
        },
        "id": "0gH4uqe_ptZd",
        "outputId": "04ae9694-e32e-4854-89c0-924b0886fc67"
      },
      "source": [
        "for i in [2,4,7]:\n",
        "  print(train_y[0,i],train_paths[i][train_paths[i].rfind('/')+1:train_paths[i].rfind('.')])\n",
        "  print(test_y[0,i],test_paths[i][test_paths[i].rfind('/')+1:test_paths[i].rfind('.')])"
      ],
      "execution_count": null,
      "outputs": [
        {
          "output_type": "stream",
          "text": [
            "1.0 cat.835\n",
            "1.0 cat.2170\n",
            "0.0 dog.859\n",
            "1.0 cat.2243\n",
            "0.0 dog.104\n",
            "0.0 dog.2259\n"
          ],
          "name": "stdout"
        }
      ]
    },
    {
      "cell_type": "code",
      "metadata": {
        "id": "r7QAwvS_wJmV"
      },
      "source": [
        "train_imgs = [mpimg.imread(img_path) for img_path in train_paths[:train_size]]\n",
        "test_imgs = [mpimg.imread(img_path) for img_path in test_paths[:test_size]]"
      ],
      "execution_count": null,
      "outputs": []
    },
    {
      "cell_type": "code",
      "metadata": {
        "id": "FnrTT63_sNpm"
      },
      "source": [
        "num_px = 64\n",
        "height = num_px\n",
        "width = num_px\n",
        "train_x_orig = np.array([resize(img,(height,width)) for img in train_imgs])\n",
        "test_x_orig = np.array([resize(img,(height,width)) for img in test_imgs])"
      ],
      "execution_count": null,
      "outputs": []
    },
    {
      "cell_type": "code",
      "metadata": {
        "colab": {
          "base_uri": "https://localhost:8080/"
        },
        "id": "TqdLbKzMtu2A",
        "outputId": "987053d6-851c-4b26-d307-72cbb6b72206"
      },
      "source": [
        "print(train_x_orig.shape)\n",
        "print(test_x_orig.shape)\n",
        "print(\"shape = (num_imgs,height,width,colors)\")"
      ],
      "execution_count": null,
      "outputs": [
        {
          "output_type": "stream",
          "text": [
            "(20, 64, 64, 3)\n",
            "(10, 64, 64, 3)\n",
            "shape = (num_imgs,height,width,colors)\n"
          ],
          "name": "stdout"
        }
      ]
    },
    {
      "cell_type": "code",
      "metadata": {
        "id": "RbzRHDLerusw",
        "colab": {
          "base_uri": "https://localhost:8080/"
        },
        "outputId": "acbb0555-2751-41ec-aac4-5635a6aac29b"
      },
      "source": [
        "train_x = train_x_orig.reshape(train_x_orig.shape[0], -1).T\n",
        "test_x = test_x_orig.reshape(test_x_orig.shape[0], -1).T\n",
        "\n",
        "print (\"train_x shape: \" + str(train_x.shape))\n",
        "print (\"train_y shape: \" + str(train_y.shape))\n",
        "print (\"test_x shape: \" + str(test_x.shape))\n",
        "print (\"test_y shape: \" + str(test_y.shape))"
      ],
      "execution_count": null,
      "outputs": [
        {
          "output_type": "stream",
          "text": [
            "train_x shape: (12288, 20)\n",
            "train_y shape: (1, 20)\n",
            "test_x shape: (12288, 10)\n",
            "test_y shape: (1, 10)\n"
          ],
          "name": "stdout"
        }
      ]
    },
    {
      "cell_type": "code",
      "metadata": {
        "id": "K0VJnVSMpaDU"
      },
      "source": [
        "def sigmoid(z):\n",
        "  return 1 / (1 + np.exp(-z))\n",
        "\n",
        "def relu(z):\n",
        "  return np.maximum(0,z)"
      ],
      "execution_count": null,
      "outputs": []
    },
    {
      "cell_type": "code",
      "metadata": {
        "id": "eH1R7IgT4eOY"
      },
      "source": [
        "# z = np.arange(-4, 4, 0.2)\n",
        "# plt.figure(figsize=(6, 3))\n",
        "# plt.plot(z,relu(z), 'r--', label='ReLU')\n",
        "# plt.plot(z,sigmoid(z), 'b--', label='Sigmoid')\n",
        "# # plt.legend()\n",
        "# # axes = plt.gca()\n",
        "# # axes.set_ylim([-0.1,1.0])\n",
        "# # plt.show()"
      ],
      "execution_count": null,
      "outputs": []
    },
    {
      "cell_type": "code",
      "metadata": {
        "id": "gam82ycDTOPD"
      },
      "source": [
        "def initialize_with_zeros(dim):\n",
        "    w = np.zeros(shape=(dim, 1)) # column vector\n",
        "    b = 0\n",
        "    return w, b\n",
        "\n",
        "# initialize_with_zeros(4)"
      ],
      "execution_count": null,
      "outputs": []
    },
    {
      "cell_type": "code",
      "metadata": {
        "id": "ZfKS2SvOTuOB"
      },
      "source": [
        "def get_cost(m,Y,A):\n",
        "  y_near_1 = Y * np.log(A) # low loss if A near 1\n",
        "  y_near_0 = (1 - Y) * (np.log(1 - A)) # low loss if A near 0\n",
        "  total_loss = np.sum(y_near_1 + y_near_1) # compute cost\n",
        "  avg_loss = (- 1 / m) * total_loss\n",
        "  return avg_loss\n",
        "\n",
        "def get_num_samples(X):\n",
        "  return  X.shape[1] \n",
        "\n",
        "def get_dJ_dw(m,X,Y,A):\n",
        "  return (1 / m) * np.dot(X, (A - Y).T) \n",
        "\n",
        "def get_dJ_db(m,Y,A):\n",
        "  return (1 / m) * np.sum(A - Y)\n",
        "\n",
        "def get_grads(m,X,Y,A):\n",
        "  dw = get_dJ_dw(m,X,Y,A)\n",
        "  db = get_dJ_db(m,Y,A)\n",
        "  return {\"dw\": dw,\n",
        "          \"db\": db}\n",
        "\n",
        "def propagate(w, b, X, Y):\n",
        "  m = get_num_samples(X)\n",
        "  Z = np.dot(w.T, X) + b\n",
        "  # activation\n",
        "  # A = relu(Z)  \n",
        "  A = sigmoid(Z) \n",
        "  J = get_cost(m,Y,A) # avg loss\n",
        "  grads = get_grads(m,X,Y,A)\n",
        "  return grads, J"
      ],
      "execution_count": null,
      "outputs": []
    },
    {
      "cell_type": "code",
      "metadata": {
        "id": "48fWbwxsSc6I"
      },
      "source": [
        "def update_params(w,b,dw,db,learning_rate):\n",
        "  w = w - learning_rate * dw  # need to broadcast\n",
        "  b = b - learning_rate * db\n",
        "  return w,b\n",
        "\n",
        "def display_cost(num_iterations,i,costs,cost,print_cost):\n",
        "  if i % int(num_iterations/10.0) == 0:\n",
        "    costs.append(cost)  \n",
        "    if print_cost:\n",
        "      print (\"Cost after iteration %i: %f\" % (i, cost))\n",
        "  return costs\n",
        "\n",
        "\n",
        "def optimize(w, b, X, Y, num_iterations, learning_rate, print_cost = False):\n",
        "    costs = []\n",
        "    for i in range(num_iterations):\n",
        "        grads, cost = propagate(w, b, X, Y) # forward propogation\n",
        "        w,b = update_params(w,b,grads[\"dw\"],grads[\"db\"],learning_rate) # back propogation\n",
        "        costs = display_cost(num_iterations,i,costs,cost,print_cost)\n",
        "    params = {\"w\": w,\n",
        "              \"b\": b}\n",
        "    return params, grads, costs"
      ],
      "execution_count": null,
      "outputs": []
    },
    {
      "cell_type": "code",
      "metadata": {
        "id": "wv24RjASU9sC"
      },
      "source": [
        "def apply_prediction_threshold(A):\n",
        "  m = get_num_samples(A)\n",
        "  Y_prediction = np.zeros((1, m)) # init row vector\n",
        "  for i in range(m):\n",
        "    Y_prediction[0, i] = 1 if A[0, i] > 0.5 else 0\n",
        "  return Y_prediction\n",
        "\n",
        "def predict(w, b, X):\n",
        "  m = get_num_samples(X)\n",
        "  w = w.reshape(X.shape[0], 1) # column vector, one row per input feature\n",
        "  A = sigmoid(np.dot(w.T, X) + b)\n",
        "  Y_prediction = apply_prediction_threshold(A)\n",
        "  assert(Y_prediction.shape == (1, m)) # predictions must be a row vector\n",
        "  return Y_prediction"
      ],
      "execution_count": null,
      "outputs": []
    },
    {
      "cell_type": "code",
      "metadata": {
        "id": "TIzVT7IgrUaT"
      },
      "source": [
        "def get_num_features(X):\n",
        "  return X.shape[0]\n",
        "\n",
        "def display_accuracy(dataset,pred,true):\n",
        "  vectorized_errors = np.abs(pred - true)\n",
        "  mean_error = np.mean(vectorized_errors)\n",
        "  print(f\"{dataset} accuracy: {100*(1 - mean_error)}\")\n",
        "\n",
        "def model(X_train, Y_train, X_test, Y_test, num_iterations=2000, learning_rate=0.05, print_cost=False):\n",
        "  n_x = get_num_features(X_train)\n",
        "  w, b = initialize_with_zeros(n_x) # one weight per input feature\n",
        "  parameters, grads, costs = optimize(w, b, X_train, Y_train, \n",
        "                                      num_iterations, learning_rate, print_cost)\n",
        "  w = parameters[\"w\"]\n",
        "  b = parameters[\"b\"]\n",
        "\n",
        "  Y_prediction_test = predict(w, b, X_test)\n",
        "  Y_prediction_train = predict(w, b, X_train)\n",
        "\n",
        "  display_accuracy('Train',Y_prediction_train,Y_train)\n",
        "  display_accuracy('Test',Y_prediction_test,Y_test)\n",
        "  \n",
        "  d = {\"costs\": costs,\n",
        "        \"Y_prediction_test\": Y_prediction_test, \n",
        "        \"Y_prediction_train\" : Y_prediction_train, \n",
        "        \"w\" : w, \n",
        "        \"b\" : b,\n",
        "        \"learning_rate\" : learning_rate,\n",
        "        \"num_iterations\": num_iterations}\n",
        "  \n",
        "  return d"
      ],
      "execution_count": null,
      "outputs": []
    },
    {
      "cell_type": "code",
      "metadata": {
        "colab": {
          "base_uri": "https://localhost:8080/"
        },
        "id": "LTncS97er_5a",
        "outputId": "21ea6ddf-a769-4edb-9b0a-ee58610f8be0"
      },
      "source": [
        "d = model(train_x, train_y, test_x, test_y, \n",
        "          num_iterations = 2000, \n",
        "          learning_rate = 0.01, \n",
        "          print_cost = True)"
      ],
      "execution_count": null,
      "outputs": [
        {
          "output_type": "stream",
          "text": [
            "Cost after iteration 0: 0.485203\n",
            "Cost after iteration 200: 0.019715\n",
            "Cost after iteration 400: 0.010417\n",
            "Cost after iteration 600: 0.007072\n",
            "Cost after iteration 800: 0.005350\n",
            "Cost after iteration 1000: 0.004302\n",
            "Cost after iteration 1200: 0.003597\n",
            "Cost after iteration 1400: 0.003090\n",
            "Cost after iteration 1600: 0.002708\n",
            "Cost after iteration 1800: 0.002410\n",
            "Train accuracy: 100.0\n",
            "Test accuracy: 60.0\n"
          ],
          "name": "stdout"
        }
      ]
    },
    {
      "cell_type": "code",
      "metadata": {
        "colab": {
          "base_uri": "https://localhost:8080/",
          "height": 268
        },
        "id": "_U8XS-uPx6wi",
        "outputId": "a592e81e-e70c-4c77-b757-58b9c2ea5024"
      },
      "source": [
        "index = 3\n",
        "plt.imshow(test_x[:,index].reshape((num_px, num_px, 3)))\n",
        "plt.show()"
      ],
      "execution_count": null,
      "outputs": [
        {
          "output_type": "display_data",
          "data": {
            "image/png": "[encoded data removed]",
            "text/plain": [
              "<Figure size 432x288 with 1 Axes>"
            ]
          },
          "metadata": {
            "tags": [],
            "needs_background": "light"
          }
        }
      ]
    },
    {
      "cell_type": "code",
      "metadata": {
        "colab": {
          "base_uri": "https://localhost:8080/",
          "height": 295
        },
        "id": "He1eDslAsG6J",
        "outputId": "b76a1a3f-0457-401d-d78a-19eb70d04ef0"
      },
      "source": [
        "# Plot learning curve (with costs)\n",
        "costs = np.squeeze(d['costs'])\n",
        "plt.plot(costs)\n",
        "plt.ylabel('cost')\n",
        "plt.xlabel('iterations (per hundreds)')\n",
        "plt.title(\"Learning rate = \" + str(d[\"learning_rate\"]))\n",
        "plt.show()"
      ],
      "execution_count": null,
      "outputs": [
        {
          "output_type": "display_data",
          "data": {
            "image/png": "[encoded data removed]",
            "text/plain": [
              "<Figure size 432x288 with 1 Axes>"
            ]
          },
          "metadata": {
            "tags": [],
            "needs_background": "light"
          }
        }
      ]
    },
    {
      "cell_type": "code",
      "metadata": {
        "colab": {
          "base_uri": "https://localhost:8080/",
          "height": 582
        },
        "id": "r5He5MOfvpB8",
        "outputId": "7c421080-0491-4611-8c05-89065456a3c7"
      },
      "source": [
        "learning_rates = [\n",
        "                  0.01, \n",
        "                  0.001,\n",
        "                  0.0005, \n",
        "                  ]\n",
        "models = {}\n",
        "for i in learning_rates:\n",
        "    print (\"learning rate is: \" + str(i))\n",
        "    models[str(i)] = model(train_x, train_y, test_x, test_y, num_iterations = 1000, learning_rate = i, print_cost = False)\n",
        "    print ('\\n' + \"-------------------------------------------------------\" + '\\n')\n",
        "\n",
        "for i in learning_rates:\n",
        "    plt.plot(np.squeeze(models[str(i)][\"costs\"]), label= str(models[str(i)][\"learning_rate\"]))\n",
        "\n",
        "plt.ylabel('cost')\n",
        "plt.xlabel('iterations')\n",
        "\n",
        "legend = plt.legend(loc='upper center', shadow=True)\n",
        "frame = legend.get_frame()\n",
        "frame.set_facecolor('0.90')\n",
        "plt.show()\n"
      ],
      "execution_count": null,
      "outputs": [
        {
          "output_type": "stream",
          "text": [
            "learning rate is: 0.01\n",
            "Train accuracy: 100.0\n",
            "Test accuracy: 60.0\n",
            "\n",
            "-------------------------------------------------------\n",
            "\n",
            "learning rate is: 0.001\n",
            "Train accuracy: 100.0\n",
            "Test accuracy: 60.0\n",
            "\n",
            "-------------------------------------------------------\n",
            "\n",
            "learning rate is: 0.0005\n",
            "Train accuracy: 100.0\n",
            "Test accuracy: 60.0\n",
            "\n",
            "-------------------------------------------------------\n",
            "\n"
          ],
          "name": "stdout"
        },
        {
          "output_type": "display_data",
          "data": {
            "image/png": "[encoded data removed]",
            "text/plain": [
              "<Figure size 432x288 with 1 Axes>"
            ]
          },
          "metadata": {
            "tags": [],
            "needs_background": "light"
          }
        }
      ]
    },
    {
      "cell_type": "code",
      "metadata": {
        "id": "jMxOwKhKK7Jb"
      },
      "source": [
        "def initialize_parameters(n_x, n_h, n_y):\n",
        "    np.random.seed(1)\n",
        "    \n",
        "    ### START CODE HERE ### (≈ 4 lines of code)\n",
        "    W1 = np.random.randn(n_h, n_x) * 0.01\n",
        "    b1 = np.zeros(shape=(n_h, 1))\n",
        "    W2 = np.random.randn(n_y, n_h) * 0.01\n",
        "    b2 = np.zeros(shape=(n_y, 1))\n",
        "    ### END CODE HERE ###\n",
        "    \n",
        "    assert(W1.shape == (n_h, n_x))\n",
        "    assert(b1.shape == (n_h, 1))\n",
        "    assert(W2.shape == (n_y, n_h))\n",
        "    assert(b2.shape == (n_y, 1))\n",
        "    \n",
        "    parameters = {\"W1\": W1,\n",
        "                  \"b1\": b1,\n",
        "                  \"W2\": W2,\n",
        "                  \"b2\": b2}\n",
        "    return parameters \n",
        "\n",
        "def linear_activation_forward(A_prev, W, b, activation):\n",
        "  if activation == \"sigmoid\":\n",
        "      # Inputs: \"A_prev, W, b\". Outputs: \"A, activation_cache\".\n",
        "      ### START CODE HERE ### (≈ 2 lines of code)\n",
        "      Z, linear_cache = linear_forward(A_prev, W, b)\n",
        "      A, activation_cache = sigmoid(Z)\n",
        "      ### END CODE HERE ###\n",
        "\n",
        "  elif activation == \"relu\":\n",
        "      # Inputs: \"A_prev, W, b\". Outputs: \"A, activation_cache\".\n",
        "      ### START CODE HERE ### (≈ 2 lines of code)\n",
        "      Z, linear_cache = linear_forward(A_prev, W, b)\n",
        "      print(Z)\n",
        "      print(linear_cache)\n",
        "      # A, activation_cache = relu(Z)\n",
        "      # print(relu(Z))\n",
        "      ### END CODE HERE ###\n",
        "\n",
        "  # assert (A.shape == (W.shape[0], A_prev.shape[1]))\n",
        "  # cache = (linear_cache, activation_cache)\n",
        "\n",
        "  # return A, cache\n",
        "  return None\n",
        "\n",
        "def compute_cost(AL, Y):\n",
        "    m = Y.shape[1]\n",
        "\n",
        "    # Compute loss from aL and y.\n",
        "    ### START CODE HERE ### (≈ 1 lines of code)\n",
        "    cost = (-1 / m) * np.sum(np.multiply(Y, np.log(AL)) + np.multiply(1 - Y, np.log(1 - AL)))\n",
        "    ### END CODE HERE ###\n",
        "    \n",
        "    cost = np.squeeze(cost)      # To make sure your cost's shape is what we expect (e.g. this turns [[17]] into 17).\n",
        "    assert(cost.shape == ())\n",
        "    \n",
        "    return cost\n",
        "\n",
        "def linear_activation_backward(dA, cache, activation):\n",
        "    linear_cache, activation_cache = cache\n",
        "    \n",
        "    if activation == \"relu\":\n",
        "        ### START CODE HERE ### (≈ 2 lines of code)\n",
        "        dZ = relu_backward(dA, activation_cache)\n",
        "        ### END CODE HERE ###\n",
        "        \n",
        "    elif activation == \"sigmoid\":\n",
        "        ### START CODE HERE ### (≈ 2 lines of code)\n",
        "        dZ = sigmoid_backward(dA, activation_cache)\n",
        "        ### END CODE HERE ###\n",
        "    \n",
        "    # Shorten the code\n",
        "    dA_prev, dW, db = linear_backward(dZ, linear_cache)\n",
        "    \n",
        "    return dA_prev, dW, db\n",
        "    \n",
        "def update_parameters(parameters, grads, learning_rate):\n",
        "    L = len(parameters) // 2 # number of layers in the neural network\n",
        "\n",
        "    # Update rule for each parameter. Use a for loop.\n",
        "    ### START CODE HERE ### (≈ 3 lines of code)\n",
        "    for l in range(L):\n",
        "        parameters[\"W\" + str(l + 1)] = parameters[\"W\" + str(l + 1)] - learning_rate * grads[\"dW\" + str(l + 1)]\n",
        "        parameters[\"b\" + str(l + 1)] = parameters[\"b\" + str(l + 1)] - learning_rate * grads[\"db\" + str(l + 1)]\n",
        "    ### END CODE HERE ###\n",
        "        \n",
        "    return parameters\n"
      ],
      "execution_count": null,
      "outputs": []
    },
    {
      "cell_type": "code",
      "metadata": {
        "id": "XniN2-2ODi_u"
      },
      "source": [
        "n_x = 12288     # num_px * num_px * 3\n",
        "n_h = 7\n",
        "n_y = 1\n",
        "layers_dims = (n_x, n_h, n_y)\n"
      ],
      "execution_count": null,
      "outputs": []
    },
    {
      "cell_type": "code",
      "metadata": {
        "id": "-_ff0nz5EMvf"
      },
      "source": [
        "def two_layer_model(X, Y, layers_dims, learning_rate=0.0075, num_iterations=3000, print_cost=False):\n",
        "    \"\"\"\n",
        "    Implements a two-layer neural network: LINEAR->RELU->LINEAR->SIGMOID.\n",
        "    \n",
        "    Arguments:\n",
        "    X -- input data, of shape (n_x, number of examples)\n",
        "    Y -- true \"label\" vector (containing 0 if cat, 1 if non-cat), of shape (1, number of examples)\n",
        "    layers_dims -- dimensions of the layers (n_x, n_h, n_y)\n",
        "    num_iterations -- number of iterations of the optimization loop\n",
        "    learning_rate -- learning rate of the gradient descent update rule\n",
        "    print_cost -- If set to True, this will print the cost every 100 iterations \n",
        "    \n",
        "    Returns:\n",
        "    parameters -- a dictionary containing W1, W2, b1, and b2\n",
        "    \"\"\"\n",
        "    \n",
        "    np.random.seed(1)\n",
        "    grads = {}\n",
        "    costs = []                              # to keep track of the cost\n",
        "    m = X.shape[1]                           # number of examples\n",
        "    (n_x, n_h, n_y) = layers_dims\n",
        "    \n",
        "    # Initialize parameters dictionary, by calling one of the functions you'd previously implemented\n",
        "    ### START CODE HERE ### (≈ 1 line of code)\n",
        "    parameters = initialize_parameters(n_x, n_h, n_y)\n",
        "    ### END CODE HERE ###\n",
        "    \n",
        "    # Get W1, b1, W2 and b2 from the dictionary parameters.\n",
        "    W1 = parameters[\"W1\"]\n",
        "    b1 = parameters[\"b1\"]\n",
        "    W2 = parameters[\"W2\"]\n",
        "    b2 = parameters[\"b2\"]\n",
        "    \n",
        "    # Loop (gradient descent)\n",
        "\n",
        "    for i in range(0, num_iterations):\n",
        "\n",
        "        # Forward propagation: LINEAR -> RELU -> LINEAR -> SIGMOID. Inputs: \"X, W1, b1\". Output: \"A1, cache1, A2, cache2\".\n",
        "        ### START CODE HERE ### (≈ 2 lines of code)\n",
        "        A1, cache1 = linear_activation_forward(X, W1, b1, 'relu')\n",
        "        A2, cache2 = linear_activation_forward(A1, W2, b2, 'sigmoid')\n",
        "        ### END CODE HERE ###\n",
        "        \n",
        "        # Compute cost\n",
        "        ### START CODE HERE ### (≈ 1 line of code)\n",
        "        cost = compute_cost(A2, Y)\n",
        "        ### END CODE HERE ###\n",
        "        \n",
        "        # Initializing backward propagation\n",
        "        dA2 = - (np.divide(Y, A2) - np.divide(1 - Y, 1 - A2))\n",
        "        \n",
        "        # Backward propagation. Inputs: \"dA2, cache2, cache1\". Outputs: \"dA1, dW2, db2; also dA0 (not used), dW1, db1\".\n",
        "        ### START CODE HERE ### (≈ 2 lines of code)\n",
        "        dA1, dW2, db2 = linear_activation_backward(dA2, cache2, 'sigmoid')\n",
        "        dA0, dW1, db1 = linear_activation_backward(dA1, cache1, 'relu')\n",
        "        ### END CODE HERE ###\n",
        "        \n",
        "        # Set grads['dWl'] to dW1, grads['db1'] to db1, grads['dW2'] to dW2, grads['db2'] to db2\n",
        "        grads['dW1'] = dW1\n",
        "        grads['db1'] = db1\n",
        "        grads['dW2'] = dW2\n",
        "        grads['db2'] = db2\n",
        "        \n",
        "        # Update parameters.\n",
        "        ### START CODE HERE ### (approx. 1 line of code)\n",
        "        parameters = update_parameters(parameters, grads, learning_rate)\n",
        "        ### END CODE HERE ###\n",
        "\n",
        "        # Retrieve W1, b1, W2, b2 from parameters\n",
        "        W1 = parameters[\"W1\"]\n",
        "        b1 = parameters[\"b1\"]\n",
        "        W2 = parameters[\"W2\"]\n",
        "        b2 = parameters[\"b2\"]\n",
        "        \n",
        "        # Print the cost every 100 training example\n",
        "        if print_cost and i % 100 == 0:\n",
        "            print(\"Cost after iteration {}: {}\".format(i, np.squeeze(cost)))\n",
        "        if print_cost and i % 100 == 0:\n",
        "            costs.append(cost)\n",
        "       \n",
        "    # plot the cost\n",
        "\n",
        "    plt.plot(np.squeeze(costs))\n",
        "    plt.ylabel('cost')\n",
        "    plt.xlabel('iterations (per tens)')\n",
        "    plt.title(\"Learning rate =\" + str(learning_rate))\n",
        "    plt.show()\n",
        "    \n",
        "    return parameters\n"
      ],
      "execution_count": null,
      "outputs": []
    },
    {
      "cell_type": "code",
      "metadata": {
        "colab": {
          "base_uri": "https://localhost:8080/",
          "height": 162
        },
        "id": "qzLPco6RInWO",
        "outputId": "be10da34-effd-4454-fba5-52794760e958"
      },
      "source": [
        "def two_layer_model(X, Y, layers_dims, learning_rate=0.0075, num_iterations=3000, print_cost=False):"
      ],
      "execution_count": null,
      "outputs": [
        {
          "output_type": "error",
          "ename": "SyntaxError",
          "evalue": "ignored",
          "traceback": [
            "\u001b[0;36m  File \u001b[0;32m\"<ipython-input-106-24a3f91e7757>\"\u001b[0;36m, line \u001b[0;32m1\u001b[0m\n\u001b[0;31m    def two_layer_model(X, Y, layers_dims, learning_rate=0.0075, num_iterations=3000, print_cost=False):\u001b[0m\n\u001b[0m                                                                                                        ^\u001b[0m\n\u001b[0;31mSyntaxError\u001b[0m\u001b[0;31m:\u001b[0m unexpected EOF while parsing\n"
          ]
        }
      ]
    },
    {
      "cell_type": "code",
      "metadata": {
        "id": "Ak251zoTGWOI"
      },
      "source": [
        "\n",
        "def linear_forward(A, W, b):\n",
        "    \"\"\"\n",
        "    Implement the linear part of a layer's forward propagation.\n",
        "\n",
        "    Arguments:\n",
        "    A -- activations from previous layer (or input data): (size of previous layer, number of examples)\n",
        "    W -- weights matrix: numpy array of shape (size of current layer, size of previous layer)\n",
        "    b -- bias vector, numpy array of shape (size of the current layer, 1)\n",
        "\n",
        "    Returns:\n",
        "    Z -- the input of the activation function, also called pre-activation parameter \n",
        "    cache -- a python dictionary containing \"A\", \"W\" and \"b\" ; stored for computing the backward pass efficiently\n",
        "    \"\"\"\n",
        "    \n",
        "    ### START CODE HERE ### (≈ 1 line of code)\n",
        "    Z = np.dot(W, A) + b\n",
        "    ### END CODE HERE ###\n",
        "    \n",
        "    assert(Z.shape == (W.shape[0], A.shape[1]))\n",
        "    cache = (A, W, b)\n",
        "    \n",
        "    return Z, cache\n"
      ],
      "execution_count": null,
      "outputs": []
    },
    {
      "cell_type": "code",
      "metadata": {
        "colab": {
          "base_uri": "https://localhost:8080/",
          "height": 1000
        },
        "id": "aTV9MI7uEVIU",
        "outputId": "fa8d4c6b-7354-4dd7-dfb0-112bbcfcfaa8"
      },
      "source": [
        "parameters = two_layer_model(train_x, train_y, layers_dims = (n_x, n_h, n_y), num_iterations = 2500, print_cost=True)\n"
      ],
      "execution_count": null,
      "outputs": [
        {
          "output_type": "stream",
          "text": [
            "Hello\n",
            "[[ 0.72505969  0.59795303  0.82248198  0.60649023  0.92487774  0.52370065\n",
            "   0.02517019  0.60900702  0.93791633  0.35097182  0.531964    0.73467893\n",
            "   0.81609571  0.4123834   0.7560495   0.91704312  0.57471641  1.17998683\n",
            "   0.47416562  0.7093775 ]\n",
            " [ 0.1116713   0.09031542  0.10060919 -0.04594141 -0.04798621  0.00368176\n",
            "  -0.09150566 -0.00624903  0.00941404 -0.14745496 -0.24741482  0.09727295\n",
            "  -0.0181755   0.01618823  0.1167668   0.06837375 -0.39751405 -0.15044806\n",
            "   0.1674568   0.2803949 ]\n",
            " [-0.07271781  0.86492014  0.56278863  0.26443952  0.31775313  0.02061734\n",
            "   0.67071242  0.23793699  0.58167715  0.42327752  0.27580362  0.22281539\n",
            "   0.51462004  0.04281959 -0.34149437  0.44204135  0.47878577  0.66234048\n",
            "   0.37681494 -0.00341361]\n",
            " [-0.5490672  -0.01643868 -0.34569413 -0.57554172 -0.05026549 -0.24062878\n",
            "  -0.24750451 -0.59194021 -0.93194527  0.03424803 -0.12186063 -0.39804145\n",
            "  -0.15764774  0.10085395 -0.49155764 -0.17329079 -0.18345882 -0.51897568\n",
            "  -0.06691419 -0.41685415]\n",
            " [-0.12135708  0.68491276  0.65708907  0.23483599  0.61317521  0.38419944\n",
            "   0.09521848 -0.37605525  0.65218841  0.31825395  0.20824016  0.34453938\n",
            "   0.52413299  0.61050853  0.24770838  0.36237214  0.29292275  0.62669363\n",
            "   0.31189876  0.15430805]\n",
            " [-0.78818802 -0.64472152 -0.19840936 -0.71322027 -1.4132144  -0.56577356\n",
            "  -0.63721515 -0.68651877 -0.76820841 -0.41014663 -0.4608793  -0.4639982\n",
            "  -0.72026056 -0.47570486 -0.76686137 -0.66501676 -0.23543858 -0.94495207\n",
            "   0.02259443 -0.43192011]\n",
            " [ 0.47964792  0.43424183  0.49931815  1.16861668  0.18150733  0.23612136\n",
            "   0.82233988  0.68140447  0.77341698  0.28359045  0.35053256  0.05656392\n",
            "   0.5146253   0.52386977  0.76994232  0.47509834  0.21611918  0.59930394\n",
            "  -0.17173714  0.57594623]]\n",
            "(array([[0.37463235, 0.53265931, 0.19411765, ..., 0.9147078 , 0.13506984,\n",
            "        0.49702555],\n",
            "       [0.34666054, 0.21041858, 0.19803922, ..., 0.93566176, 0.15137868,\n",
            "        0.40290791],\n",
            "       [0.28877288, 0.32806564, 0.21764706, ..., 0.90821078, 0.15609681,\n",
            "        0.23035889],\n",
            "       ...,\n",
            "       [0.05098039, 0.42812309, 0.70980392, ..., 0.89411765, 0.02117034,\n",
            "        0.36862745],\n",
            "       [0.02196691, 0.28786765, 0.67647059, ..., 0.91991422, 0.02352941,\n",
            "        0.34117647],\n",
            "       [0.00721651, 0.25882353, 0.67058824, ..., 0.91213235, 0.03591668,\n",
            "        0.3041973 ]]), array([[ 0.01624345, -0.00611756, -0.00528172, ..., -0.00527214,\n",
            "        -0.0038034 ,  0.00949412],\n",
            "       [ 0.01009231,  0.00229889, -0.00664099, ...,  0.00689859,\n",
            "        -0.00488322,  0.0020761 ],\n",
            "       [-0.0035634 , -0.00195481,  0.00636803, ...,  0.00822751,\n",
            "        -0.00104425, -0.00657957],\n",
            "       ...,\n",
            "       [-0.00315398,  0.0124543 , -0.01304592, ...,  0.00370126,\n",
            "         0.01033177, -0.00896044],\n",
            "       [ 0.00487913,  0.00350058, -0.00084749, ..., -0.00559281,\n",
            "         0.00325022,  0.00231429],\n",
            "       [ 0.00534074,  0.02512388, -0.01044755, ...,  0.0216518 ,\n",
            "        -0.00842579,  0.00359795]]), array([[0.],\n",
            "       [0.],\n",
            "       [0.],\n",
            "       [0.],\n",
            "       [0.],\n",
            "       [0.],\n",
            "       [0.]]))\n"
          ],
          "name": "stdout"
        },
        {
          "output_type": "error",
          "ename": "TypeError",
          "evalue": "ignored",
          "traceback": [
            "\u001b[0;31m---------------------------------------------------------------------------\u001b[0m",
            "\u001b[0;31mTypeError\u001b[0m                                 Traceback (most recent call last)",
            "\u001b[0;32m<ipython-input-103-f2297765406a>\u001b[0m in \u001b[0;36m<module>\u001b[0;34m()\u001b[0m\n\u001b[0;32m----> 1\u001b[0;31m \u001b[0mparameters\u001b[0m \u001b[0;34m=\u001b[0m \u001b[0mtwo_layer_model\u001b[0m\u001b[0;34m(\u001b[0m\u001b[0mtrain_x\u001b[0m\u001b[0;34m,\u001b[0m \u001b[0mtrain_y\u001b[0m\u001b[0;34m,\u001b[0m \u001b[0mlayers_dims\u001b[0m \u001b[0;34m=\u001b[0m \u001b[0;34m(\u001b[0m\u001b[0mn_x\u001b[0m\u001b[0;34m,\u001b[0m \u001b[0mn_h\u001b[0m\u001b[0;34m,\u001b[0m \u001b[0mn_y\u001b[0m\u001b[0;34m)\u001b[0m\u001b[0;34m,\u001b[0m \u001b[0mnum_iterations\u001b[0m \u001b[0;34m=\u001b[0m \u001b[0;36m2500\u001b[0m\u001b[0;34m,\u001b[0m \u001b[0mprint_cost\u001b[0m\u001b[0;34m=\u001b[0m\u001b[0;32mTrue\u001b[0m\u001b[0;34m)\u001b[0m\u001b[0;34m\u001b[0m\u001b[0;34m\u001b[0m\u001b[0m\n\u001b[0m",
            "\u001b[0;32m<ipython-input-101-667e6e80f2ac>\u001b[0m in \u001b[0;36mtwo_layer_model\u001b[0;34m(X, Y, layers_dims, learning_rate, num_iterations, print_cost)\u001b[0m\n\u001b[1;32m     39\u001b[0m         \u001b[0;31m### START CODE HERE ### (≈ 2 lines of code)\u001b[0m\u001b[0;34m\u001b[0m\u001b[0;34m\u001b[0m\u001b[0;34m\u001b[0m\u001b[0m\n\u001b[1;32m     40\u001b[0m         \u001b[0mprint\u001b[0m\u001b[0;34m(\u001b[0m\u001b[0;34m'Hello'\u001b[0m\u001b[0;34m)\u001b[0m\u001b[0;34m\u001b[0m\u001b[0;34m\u001b[0m\u001b[0m\n\u001b[0;32m---> 41\u001b[0;31m         \u001b[0mA1\u001b[0m\u001b[0;34m,\u001b[0m \u001b[0mcache1\u001b[0m \u001b[0;34m=\u001b[0m \u001b[0mlinear_activation_forward\u001b[0m\u001b[0;34m(\u001b[0m\u001b[0mX\u001b[0m\u001b[0;34m,\u001b[0m \u001b[0mW1\u001b[0m\u001b[0;34m,\u001b[0m \u001b[0mb1\u001b[0m\u001b[0;34m,\u001b[0m \u001b[0;34m'relu'\u001b[0m\u001b[0;34m)\u001b[0m\u001b[0;34m\u001b[0m\u001b[0;34m\u001b[0m\u001b[0m\n\u001b[0m\u001b[1;32m     42\u001b[0m     \u001b[0;31m#     A2, cache2 = linear_activation_forward(A1, W2, b2, 'sigmoid')\u001b[0m\u001b[0;34m\u001b[0m\u001b[0;34m\u001b[0m\u001b[0;34m\u001b[0m\u001b[0m\n\u001b[1;32m     43\u001b[0m     \u001b[0;31m#     ### END CODE HERE ###\u001b[0m\u001b[0;34m\u001b[0m\u001b[0;34m\u001b[0m\u001b[0;34m\u001b[0m\u001b[0m\n",
            "\u001b[0;31mTypeError\u001b[0m: 'NoneType' object is not iterable"
          ]
        }
      ]
    },
    {
      "cell_type": "code",
      "metadata": {
        "id": "Q4-2qxxLEVjv"
      },
      "source": [
        ""
      ],
      "execution_count": null,
      "outputs": []
    }
  ]
}